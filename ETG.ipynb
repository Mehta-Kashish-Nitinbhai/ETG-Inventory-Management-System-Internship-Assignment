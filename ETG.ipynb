{
 "cells": [
  {
   "cell_type": "markdown",
   "id": "16f0de4c",
   "metadata": {},
   "source": [
    "# ETG INVENTORY MANAGEMENT SYSTEM USING JSON"
   ]
  },
  {
   "cell_type": "code",
   "execution_count": 30,
   "id": "5a7f193e",
   "metadata": {},
   "outputs": [],
   "source": [
    "import json"
   ]
  },
  {
   "cell_type": "code",
   "execution_count": 31,
   "id": "95d6310b",
   "metadata": {},
   "outputs": [],
   "source": [
    "fd = open('ETG.json','r')\n",
    "json = fd.read()\n",
    "fd.close()"
   ]
  },
  {
   "cell_type": "code",
   "execution_count": 32,
   "id": "cf56c7e0",
   "metadata": {},
   "outputs": [
    {
     "data": {
      "text/plain": [
       "'1,Craft paper,40,426,Stationary\\n2,Graph paper,2,99,Stationary\\n3,Marker,20,830,Stationary\\n4,Whitner,45,288,Stationary\\n5,Brown cover paper,30,115,Stationary\\n6,Writing board,50,490,Stationary\\n7,School bag,600,1000,Stationary\\n8,Pen,30,2000,Stationary\\n9,File,20,250,Stationary\\n10,Notebook,40,450,Stationary\\n11,Purse,60,600,Stationary\\n12,Stencil,30,500,Stationary\\n13,Compass box,30,700,Stationary\\n14,File,45,998,Stationary\\n15,Folder,10,2000,Stationary\\n16,Water Bottle,100,678,Stationary\\n17,Lunch Box,127,488,Stationary\\n18,Fevicol,20,640,Stationary\\n19,Scissor,35,837,Stationary\\n20,Chart,20,832,Stationary\\n21,Calculator,200,383,Stationary\\n22,Sticky Notes,40,873,Stationary\\n23,Sketch Pen,12,337,Stationary\\n24,Water colors,60,838,Stationary\\n25,Crayons,40,383,Stationary\\n26,Pencil colors,50,393,Stationary\\n27,Scale,10,1928,Stationary\\n28,Eraser,5,292,Stationary\\n29,Sharpner,5,392,Stationary\\n30,Stepler,45,938,Stationary\\n'"
      ]
     },
     "execution_count": 32,
     "metadata": {},
     "output_type": "execute_result"
    }
   ],
   "source": [
    "json"
   ]
  },
  {
   "cell_type": "markdown",
   "id": "5e0d75d2",
   "metadata": {},
   "source": [
    "# record will store data.(record.json)"
   ]
  },
  {
   "cell_type": "code",
   "execution_count": 33,
   "id": "f7cc8fee",
   "metadata": {},
   "outputs": [],
   "source": [
    "record = {101 : {\"Product ID\":\"1\",\"Product Name\":\"Craft paper\",\"Price\":40,\"Quantity\":484,\"Category\":\"Stationary\"},\n",
    "          102 : {\"Product ID\":\"2\",\"Product Name\":\"Graph paper\",\"Price\":2,\"Quantity\":100,\"Category\":\"Stationary\"},\n",
    "          103 : {\"Product ID\":\"3\",\"Product Name\":\"Marker\",\"Price\":20,\"Quantity\":837,\"Category\":\"Stationary\"},\n",
    "          104 : {\"Product ID\":\"4\",\"Product Name\":\"Whitner\",\"Price\":45,\"Quantity\":288,\"Category\":\"Stationary\"},\n",
    "          105 : {\"Product ID\":\"5\",\"Product Name\":\"Brown cover paper\",\"Price\":30,\"Quantity\":118,\"Category\":\"Stationary\"},\n",
    "          106 : {\"Product ID\":\"6\",\"Product Name\":\"Writing board\",\"Price\":50,\"Quantity\":494,\"Category\":\"Stationary\"},\n",
    "          107 : {\"Product ID\":\"7\",\"Product Name\":\"School bag\",\"Price\":600,\"Quantity\":1000,\"Category\":\"Stationary\"},\n",
    "          108 : {\"Product ID\":\"8\",\"Product Name\":\"Pen\",\"Price\":30,\"Quantity\":2000,\"Category\":\"Stationary\"},\n",
    "          109 : {\"Product ID\":\"9\",\"Product Name\":\"File\",\"Price\":20,\"Quantity\":250,\"Category\":\"Stationary\"},\n",
    "          110 : {\"Product ID\":\"10\",\"Product Name\":\"Notebook\",\"Price\":40,\"Quantity\":450,\"Category\":\"Stationary\"},\n",
    "          111 : {\"Product ID\":\"11\",\"Product Name\":\"Purse\",\"Price\":60,\"Quantity\":600,\"Category\":\"Stationary\"},\n",
    "          112 : {\"Product ID\":\"12\",\"Product Name\":\"Stencil\",\"Price\":30,\"Quantity\":500,\"Category\":\"Stationary\"},\n",
    "          113 : {\"Product ID\":\"13\",\"Product Name\":\"Compass box\",\"Price\":30,\"Quantity\":700,\"Category\":\"Stationary\"},\n",
    "          114 : {\"Product ID\":\"14\",\"Product Name\":\"File\",\"Price\":45,\"Quantity\":1000,\"Category\":\"Stationary\"},\n",
    "          115 : {\"Product ID\":\"15\",\"Product Name\":\"Folder\",\"Price\":10,\"Quantity\":2000,\"Category\":\"Stationary\"},\n",
    "          116 : {\"Product ID\":\"16\",\"Product Name\":\"Water Bottle\",\"Price\":100,\"Quantity\":678,\"Category\":\"Stationary\"},\n",
    "          117 : {\"Product ID\":\"17\",\"Product Name\":\"Lunch Box\",\"Price\":127,\"Quantity\":488,\"Category\":\"Stationary\"},\n",
    "          118 : {\"Product ID\":\"18\",\"Product Name\":\"Fevicol\",\"Price\":20,\"Quantity\":645,\"Category\":\"Stationary\"},\n",
    "          119 : {\"Product ID\":\"19\",\"Product Name\":\"Scissor\",\"Price\":35,\"Quantity\":837,\"Category\":\"Stationary\"},\n",
    "          120 : {\"Product ID\":\"20\",\"Product Name\":\"Chart\",\"Price\":20,\"Quantity\":837,\"Category\":\"Stationary\"},\n",
    "          121 : {\"Product ID\":\"21\",\"Product Name\":\"Calculator\",\"Price\":200,\"Quantity\":383,\"Category\":\"Stationary\"},\n",
    "          122 : {\"Product ID\":\"22\",\"Product Name\":\"Sticky Notes\",\"Price\":40,\"Quantity\":873,\"Category\":\"Stationary\"},\n",
    "          123 : {\"Product ID\":\"23\",\"Product Name\":\"Sketch Pen\",\"Price\":12,\"Quantity\":337,\"Category\":\"Stationary\"},\n",
    "          124 : {\"Product ID\":\"24\",\"Product Name\":\"Water colors\",\"Price\":60,\"Quantity\":838,\"Category\":\"Stationary\"},\n",
    "          125 : {\"Product ID\":\"25\",\"Product Name\":\"Crayons\",\"Price\":40,\"Quantity\":383,\"Category\":\"Stationary\"},\n",
    "          126 : {\"Product ID\":\"26\",\"Product Name\":\"Pencil colors\",\"Price\":50,\"Quantity\":393,\"Category\":\"Stationary\"},\n",
    "          127 : {\"Product ID\":\"27\",\"Product Name\":\"Scale\",\"Price\":10,\"Quantity\":1928,\"Category\":\"Stationary\"},\n",
    "          128 : {\"Product ID\":\"28\",\"Product Name\":\"Eraser\",\"Price\":5,\"Quantity\":292,\"Category\":\"Stationary\"},\n",
    "          129 : {\"Product ID\":\"29\",\"Product Name\":\"Sharpner\",\"Price\":5,\"Quantity\":392,\"Category\":\"Stationary\"},\n",
    "          130 : {\"Product ID\":\"30\",\"Product Name\":\"Stepler\",\"Price\":45,\"Quantity\":948,\"Category\":\"Stationary\"},\n",
    "         }\n"
   ]
  },
  {
   "cell_type": "code",
   "execution_count": 34,
   "id": "efe3d1e2",
   "metadata": {
    "scrolled": true
   },
   "outputs": [
    {
     "data": {
      "text/plain": [
       "{101: {'Product ID': '1',\n",
       "  'Product Name': 'Craft paper',\n",
       "  'Price': 40,\n",
       "  'Quantity': 484,\n",
       "  'Category': 'Stationary'},\n",
       " 102: {'Product ID': '2',\n",
       "  'Product Name': 'Graph paper',\n",
       "  'Price': 2,\n",
       "  'Quantity': 100,\n",
       "  'Category': 'Stationary'},\n",
       " 103: {'Product ID': '3',\n",
       "  'Product Name': 'Marker',\n",
       "  'Price': 20,\n",
       "  'Quantity': 837,\n",
       "  'Category': 'Stationary'},\n",
       " 104: {'Product ID': '4',\n",
       "  'Product Name': 'Whitner',\n",
       "  'Price': 45,\n",
       "  'Quantity': 288,\n",
       "  'Category': 'Stationary'},\n",
       " 105: {'Product ID': '5',\n",
       "  'Product Name': 'Brown cover paper',\n",
       "  'Price': 30,\n",
       "  'Quantity': 118,\n",
       "  'Category': 'Stationary'},\n",
       " 106: {'Product ID': '6',\n",
       "  'Product Name': 'Writing board',\n",
       "  'Price': 50,\n",
       "  'Quantity': 494,\n",
       "  'Category': 'Stationary'},\n",
       " 107: {'Product ID': '7',\n",
       "  'Product Name': 'School bag',\n",
       "  'Price': 600,\n",
       "  'Quantity': 1000,\n",
       "  'Category': 'Stationary'},\n",
       " 108: {'Product ID': '8',\n",
       "  'Product Name': 'Pen',\n",
       "  'Price': 30,\n",
       "  'Quantity': 2000,\n",
       "  'Category': 'Stationary'},\n",
       " 109: {'Product ID': '9',\n",
       "  'Product Name': 'File',\n",
       "  'Price': 20,\n",
       "  'Quantity': 250,\n",
       "  'Category': 'Stationary'},\n",
       " 110: {'Product ID': '10',\n",
       "  'Product Name': 'Notebook',\n",
       "  'Price': 40,\n",
       "  'Quantity': 450,\n",
       "  'Category': 'Stationary'},\n",
       " 111: {'Product ID': '11',\n",
       "  'Product Name': 'Purse',\n",
       "  'Price': 60,\n",
       "  'Quantity': 600,\n",
       "  'Category': 'Stationary'},\n",
       " 112: {'Product ID': '12',\n",
       "  'Product Name': 'Stencil',\n",
       "  'Price': 30,\n",
       "  'Quantity': 500,\n",
       "  'Category': 'Stationary'},\n",
       " 113: {'Product ID': '13',\n",
       "  'Product Name': 'Compass box',\n",
       "  'Price': 30,\n",
       "  'Quantity': 700,\n",
       "  'Category': 'Stationary'},\n",
       " 114: {'Product ID': '14',\n",
       "  'Product Name': 'File',\n",
       "  'Price': 45,\n",
       "  'Quantity': 1000,\n",
       "  'Category': 'Stationary'},\n",
       " 115: {'Product ID': '15',\n",
       "  'Product Name': 'Folder',\n",
       "  'Price': 10,\n",
       "  'Quantity': 2000,\n",
       "  'Category': 'Stationary'},\n",
       " 116: {'Product ID': '16',\n",
       "  'Product Name': 'Water Bottle',\n",
       "  'Price': 100,\n",
       "  'Quantity': 678,\n",
       "  'Category': 'Stationary'},\n",
       " 117: {'Product ID': '17',\n",
       "  'Product Name': 'Lunch Box',\n",
       "  'Price': 127,\n",
       "  'Quantity': 488,\n",
       "  'Category': 'Stationary'},\n",
       " 118: {'Product ID': '18',\n",
       "  'Product Name': 'Fevicol',\n",
       "  'Price': 20,\n",
       "  'Quantity': 645,\n",
       "  'Category': 'Stationary'},\n",
       " 119: {'Product ID': '19',\n",
       "  'Product Name': 'Scissor',\n",
       "  'Price': 35,\n",
       "  'Quantity': 837,\n",
       "  'Category': 'Stationary'},\n",
       " 120: {'Product ID': '20',\n",
       "  'Product Name': 'Chart',\n",
       "  'Price': 20,\n",
       "  'Quantity': 837,\n",
       "  'Category': 'Stationary'},\n",
       " 121: {'Product ID': '21',\n",
       "  'Product Name': 'Calculator',\n",
       "  'Price': 200,\n",
       "  'Quantity': 383,\n",
       "  'Category': 'Stationary'},\n",
       " 122: {'Product ID': '22',\n",
       "  'Product Name': 'Sticky Notes',\n",
       "  'Price': 40,\n",
       "  'Quantity': 873,\n",
       "  'Category': 'Stationary'},\n",
       " 123: {'Product ID': '23',\n",
       "  'Product Name': 'Sketch Pen',\n",
       "  'Price': 12,\n",
       "  'Quantity': 337,\n",
       "  'Category': 'Stationary'},\n",
       " 124: {'Product ID': '24',\n",
       "  'Product Name': 'Water colors',\n",
       "  'Price': 60,\n",
       "  'Quantity': 838,\n",
       "  'Category': 'Stationary'},\n",
       " 125: {'Product ID': '25',\n",
       "  'Product Name': 'Crayons',\n",
       "  'Price': 40,\n",
       "  'Quantity': 383,\n",
       "  'Category': 'Stationary'},\n",
       " 126: {'Product ID': '26',\n",
       "  'Product Name': 'Pencil colors',\n",
       "  'Price': 50,\n",
       "  'Quantity': 393,\n",
       "  'Category': 'Stationary'},\n",
       " 127: {'Product ID': '27',\n",
       "  'Product Name': 'Scale',\n",
       "  'Price': 10,\n",
       "  'Quantity': 1928,\n",
       "  'Category': 'Stationary'},\n",
       " 128: {'Product ID': '28',\n",
       "  'Product Name': 'Eraser',\n",
       "  'Price': 5,\n",
       "  'Quantity': 292,\n",
       "  'Category': 'Stationary'},\n",
       " 129: {'Product ID': '29',\n",
       "  'Product Name': 'Sharpner',\n",
       "  'Price': 5,\n",
       "  'Quantity': 392,\n",
       "  'Category': 'Stationary'},\n",
       " 130: {'Product ID': '30',\n",
       "  'Product Name': 'Stepler',\n",
       "  'Price': 45,\n",
       "  'Quantity': 948,\n",
       "  'Category': 'Stationary'}}"
      ]
     },
     "execution_count": 34,
     "metadata": {},
     "output_type": "execute_result"
    }
   ],
   "source": [
    "record"
   ]
  },
  {
   "cell_type": "code",
   "execution_count": 35,
   "id": "321fd284",
   "metadata": {},
   "outputs": [
    {
     "name": "stdout",
     "output_type": "stream",
     "text": [
      "1\n",
      "Craft paper\n",
      "40\n",
      "484\n"
     ]
    }
   ],
   "source": [
    "pid = 101\n",
    "print(record[pid]['Product ID'])\n",
    "print(record[pid]['Product Name'])\n",
    "print(record[pid]['Price'])\n",
    "print(record[pid]['Quantity'])"
   ]
  },
  {
   "cell_type": "code",
   "execution_count": 36,
   "id": "dc72d61d",
   "metadata": {},
   "outputs": [],
   "source": [
    "record[102]['Price'] = 5"
   ]
  },
  {
   "cell_type": "code",
   "execution_count": 37,
   "id": "c32e602b",
   "metadata": {
    "scrolled": true
   },
   "outputs": [
    {
     "data": {
      "text/plain": [
       "{101: {'Product ID': '1',\n",
       "  'Product Name': 'Craft paper',\n",
       "  'Price': 40,\n",
       "  'Quantity': 484,\n",
       "  'Category': 'Stationary'},\n",
       " 102: {'Product ID': '2',\n",
       "  'Product Name': 'Graph paper',\n",
       "  'Price': 5,\n",
       "  'Quantity': 100,\n",
       "  'Category': 'Stationary'},\n",
       " 103: {'Product ID': '3',\n",
       "  'Product Name': 'Marker',\n",
       "  'Price': 20,\n",
       "  'Quantity': 837,\n",
       "  'Category': 'Stationary'},\n",
       " 104: {'Product ID': '4',\n",
       "  'Product Name': 'Whitner',\n",
       "  'Price': 45,\n",
       "  'Quantity': 288,\n",
       "  'Category': 'Stationary'},\n",
       " 105: {'Product ID': '5',\n",
       "  'Product Name': 'Brown cover paper',\n",
       "  'Price': 30,\n",
       "  'Quantity': 118,\n",
       "  'Category': 'Stationary'},\n",
       " 106: {'Product ID': '6',\n",
       "  'Product Name': 'Writing board',\n",
       "  'Price': 50,\n",
       "  'Quantity': 494,\n",
       "  'Category': 'Stationary'},\n",
       " 107: {'Product ID': '7',\n",
       "  'Product Name': 'School bag',\n",
       "  'Price': 600,\n",
       "  'Quantity': 1000,\n",
       "  'Category': 'Stationary'},\n",
       " 108: {'Product ID': '8',\n",
       "  'Product Name': 'Pen',\n",
       "  'Price': 30,\n",
       "  'Quantity': 2000,\n",
       "  'Category': 'Stationary'},\n",
       " 109: {'Product ID': '9',\n",
       "  'Product Name': 'File',\n",
       "  'Price': 20,\n",
       "  'Quantity': 250,\n",
       "  'Category': 'Stationary'},\n",
       " 110: {'Product ID': '10',\n",
       "  'Product Name': 'Notebook',\n",
       "  'Price': 40,\n",
       "  'Quantity': 450,\n",
       "  'Category': 'Stationary'},\n",
       " 111: {'Product ID': '11',\n",
       "  'Product Name': 'Purse',\n",
       "  'Price': 60,\n",
       "  'Quantity': 600,\n",
       "  'Category': 'Stationary'},\n",
       " 112: {'Product ID': '12',\n",
       "  'Product Name': 'Stencil',\n",
       "  'Price': 30,\n",
       "  'Quantity': 500,\n",
       "  'Category': 'Stationary'},\n",
       " 113: {'Product ID': '13',\n",
       "  'Product Name': 'Compass box',\n",
       "  'Price': 30,\n",
       "  'Quantity': 700,\n",
       "  'Category': 'Stationary'},\n",
       " 114: {'Product ID': '14',\n",
       "  'Product Name': 'File',\n",
       "  'Price': 45,\n",
       "  'Quantity': 1000,\n",
       "  'Category': 'Stationary'},\n",
       " 115: {'Product ID': '15',\n",
       "  'Product Name': 'Folder',\n",
       "  'Price': 10,\n",
       "  'Quantity': 2000,\n",
       "  'Category': 'Stationary'},\n",
       " 116: {'Product ID': '16',\n",
       "  'Product Name': 'Water Bottle',\n",
       "  'Price': 100,\n",
       "  'Quantity': 678,\n",
       "  'Category': 'Stationary'},\n",
       " 117: {'Product ID': '17',\n",
       "  'Product Name': 'Lunch Box',\n",
       "  'Price': 127,\n",
       "  'Quantity': 488,\n",
       "  'Category': 'Stationary'},\n",
       " 118: {'Product ID': '18',\n",
       "  'Product Name': 'Fevicol',\n",
       "  'Price': 20,\n",
       "  'Quantity': 645,\n",
       "  'Category': 'Stationary'},\n",
       " 119: {'Product ID': '19',\n",
       "  'Product Name': 'Scissor',\n",
       "  'Price': 35,\n",
       "  'Quantity': 837,\n",
       "  'Category': 'Stationary'},\n",
       " 120: {'Product ID': '20',\n",
       "  'Product Name': 'Chart',\n",
       "  'Price': 20,\n",
       "  'Quantity': 837,\n",
       "  'Category': 'Stationary'},\n",
       " 121: {'Product ID': '21',\n",
       "  'Product Name': 'Calculator',\n",
       "  'Price': 200,\n",
       "  'Quantity': 383,\n",
       "  'Category': 'Stationary'},\n",
       " 122: {'Product ID': '22',\n",
       "  'Product Name': 'Sticky Notes',\n",
       "  'Price': 40,\n",
       "  'Quantity': 873,\n",
       "  'Category': 'Stationary'},\n",
       " 123: {'Product ID': '23',\n",
       "  'Product Name': 'Sketch Pen',\n",
       "  'Price': 12,\n",
       "  'Quantity': 337,\n",
       "  'Category': 'Stationary'},\n",
       " 124: {'Product ID': '24',\n",
       "  'Product Name': 'Water colors',\n",
       "  'Price': 60,\n",
       "  'Quantity': 838,\n",
       "  'Category': 'Stationary'},\n",
       " 125: {'Product ID': '25',\n",
       "  'Product Name': 'Crayons',\n",
       "  'Price': 40,\n",
       "  'Quantity': 383,\n",
       "  'Category': 'Stationary'},\n",
       " 126: {'Product ID': '26',\n",
       "  'Product Name': 'Pencil colors',\n",
       "  'Price': 50,\n",
       "  'Quantity': 393,\n",
       "  'Category': 'Stationary'},\n",
       " 127: {'Product ID': '27',\n",
       "  'Product Name': 'Scale',\n",
       "  'Price': 10,\n",
       "  'Quantity': 1928,\n",
       "  'Category': 'Stationary'},\n",
       " 128: {'Product ID': '28',\n",
       "  'Product Name': 'Eraser',\n",
       "  'Price': 5,\n",
       "  'Quantity': 292,\n",
       "  'Category': 'Stationary'},\n",
       " 129: {'Product ID': '29',\n",
       "  'Product Name': 'Sharpner',\n",
       "  'Price': 5,\n",
       "  'Quantity': 392,\n",
       "  'Category': 'Stationary'},\n",
       " 130: {'Product ID': '30',\n",
       "  'Product Name': 'Stepler',\n",
       "  'Price': 45,\n",
       "  'Quantity': 948,\n",
       "  'Category': 'Stationary'}}"
      ]
     },
     "execution_count": 37,
     "metadata": {},
     "output_type": "execute_result"
    }
   ],
   "source": [
    "record"
   ]
  },
  {
   "cell_type": "code",
   "execution_count": 38,
   "id": "6aca1f66",
   "metadata": {},
   "outputs": [],
   "source": [
    "import json"
   ]
  },
  {
   "cell_type": "code",
   "execution_count": 39,
   "id": "a3aca937",
   "metadata": {},
   "outputs": [],
   "source": [
    "js = json.dumps(record)"
   ]
  },
  {
   "cell_type": "code",
   "execution_count": 40,
   "id": "d04b308f",
   "metadata": {
    "scrolled": true
   },
   "outputs": [
    {
     "data": {
      "text/plain": [
       "'{\"101\": {\"Product ID\": \"1\", \"Product Name\": \"Craft paper\", \"Price\": 40, \"Quantity\": 484, \"Category\": \"Stationary\"}, \"102\": {\"Product ID\": \"2\", \"Product Name\": \"Graph paper\", \"Price\": 5, \"Quantity\": 100, \"Category\": \"Stationary\"}, \"103\": {\"Product ID\": \"3\", \"Product Name\": \"Marker\", \"Price\": 20, \"Quantity\": 837, \"Category\": \"Stationary\"}, \"104\": {\"Product ID\": \"4\", \"Product Name\": \"Whitner\", \"Price\": 45, \"Quantity\": 288, \"Category\": \"Stationary\"}, \"105\": {\"Product ID\": \"5\", \"Product Name\": \"Brown cover paper\", \"Price\": 30, \"Quantity\": 118, \"Category\": \"Stationary\"}, \"106\": {\"Product ID\": \"6\", \"Product Name\": \"Writing board\", \"Price\": 50, \"Quantity\": 494, \"Category\": \"Stationary\"}, \"107\": {\"Product ID\": \"7\", \"Product Name\": \"School bag\", \"Price\": 600, \"Quantity\": 1000, \"Category\": \"Stationary\"}, \"108\": {\"Product ID\": \"8\", \"Product Name\": \"Pen\", \"Price\": 30, \"Quantity\": 2000, \"Category\": \"Stationary\"}, \"109\": {\"Product ID\": \"9\", \"Product Name\": \"File\", \"Price\": 20, \"Quantity\": 250, \"Category\": \"Stationary\"}, \"110\": {\"Product ID\": \"10\", \"Product Name\": \"Notebook\", \"Price\": 40, \"Quantity\": 450, \"Category\": \"Stationary\"}, \"111\": {\"Product ID\": \"11\", \"Product Name\": \"Purse\", \"Price\": 60, \"Quantity\": 600, \"Category\": \"Stationary\"}, \"112\": {\"Product ID\": \"12\", \"Product Name\": \"Stencil\", \"Price\": 30, \"Quantity\": 500, \"Category\": \"Stationary\"}, \"113\": {\"Product ID\": \"13\", \"Product Name\": \"Compass box\", \"Price\": 30, \"Quantity\": 700, \"Category\": \"Stationary\"}, \"114\": {\"Product ID\": \"14\", \"Product Name\": \"File\", \"Price\": 45, \"Quantity\": 1000, \"Category\": \"Stationary\"}, \"115\": {\"Product ID\": \"15\", \"Product Name\": \"Folder\", \"Price\": 10, \"Quantity\": 2000, \"Category\": \"Stationary\"}, \"116\": {\"Product ID\": \"16\", \"Product Name\": \"Water Bottle\", \"Price\": 100, \"Quantity\": 678, \"Category\": \"Stationary\"}, \"117\": {\"Product ID\": \"17\", \"Product Name\": \"Lunch Box\", \"Price\": 127, \"Quantity\": 488, \"Category\": \"Stationary\"}, \"118\": {\"Product ID\": \"18\", \"Product Name\": \"Fevicol\", \"Price\": 20, \"Quantity\": 645, \"Category\": \"Stationary\"}, \"119\": {\"Product ID\": \"19\", \"Product Name\": \"Scissor\", \"Price\": 35, \"Quantity\": 837, \"Category\": \"Stationary\"}, \"120\": {\"Product ID\": \"20\", \"Product Name\": \"Chart\", \"Price\": 20, \"Quantity\": 837, \"Category\": \"Stationary\"}, \"121\": {\"Product ID\": \"21\", \"Product Name\": \"Calculator\", \"Price\": 200, \"Quantity\": 383, \"Category\": \"Stationary\"}, \"122\": {\"Product ID\": \"22\", \"Product Name\": \"Sticky Notes\", \"Price\": 40, \"Quantity\": 873, \"Category\": \"Stationary\"}, \"123\": {\"Product ID\": \"23\", \"Product Name\": \"Sketch Pen\", \"Price\": 12, \"Quantity\": 337, \"Category\": \"Stationary\"}, \"124\": {\"Product ID\": \"24\", \"Product Name\": \"Water colors\", \"Price\": 60, \"Quantity\": 838, \"Category\": \"Stationary\"}, \"125\": {\"Product ID\": \"25\", \"Product Name\": \"Crayons\", \"Price\": 40, \"Quantity\": 383, \"Category\": \"Stationary\"}, \"126\": {\"Product ID\": \"26\", \"Product Name\": \"Pencil colors\", \"Price\": 50, \"Quantity\": 393, \"Category\": \"Stationary\"}, \"127\": {\"Product ID\": \"27\", \"Product Name\": \"Scale\", \"Price\": 10, \"Quantity\": 1928, \"Category\": \"Stationary\"}, \"128\": {\"Product ID\": \"28\", \"Product Name\": \"Eraser\", \"Price\": 5, \"Quantity\": 292, \"Category\": \"Stationary\"}, \"129\": {\"Product ID\": \"29\", \"Product Name\": \"Sharpner\", \"Price\": 5, \"Quantity\": 392, \"Category\": \"Stationary\"}, \"130\": {\"Product ID\": \"30\", \"Product Name\": \"Stepler\", \"Price\": 45, \"Quantity\": 948, \"Category\": \"Stationary\"}}'"
      ]
     },
     "execution_count": 40,
     "metadata": {},
     "output_type": "execute_result"
    }
   ],
   "source": [
    "js"
   ]
  },
  {
   "cell_type": "code",
   "execution_count": 41,
   "id": "253f00ee",
   "metadata": {
    "scrolled": true
   },
   "outputs": [
    {
     "data": {
      "text/plain": [
       "{101: {'Product ID': '1',\n",
       "  'Product Name': 'Craft paper',\n",
       "  'Price': 40,\n",
       "  'Quantity': 484,\n",
       "  'Category': 'Stationary'},\n",
       " 102: {'Product ID': '2',\n",
       "  'Product Name': 'Graph paper',\n",
       "  'Price': 5,\n",
       "  'Quantity': 100,\n",
       "  'Category': 'Stationary'},\n",
       " 103: {'Product ID': '3',\n",
       "  'Product Name': 'Marker',\n",
       "  'Price': 20,\n",
       "  'Quantity': 837,\n",
       "  'Category': 'Stationary'},\n",
       " 104: {'Product ID': '4',\n",
       "  'Product Name': 'Whitner',\n",
       "  'Price': 45,\n",
       "  'Quantity': 288,\n",
       "  'Category': 'Stationary'},\n",
       " 105: {'Product ID': '5',\n",
       "  'Product Name': 'Brown cover paper',\n",
       "  'Price': 30,\n",
       "  'Quantity': 118,\n",
       "  'Category': 'Stationary'},\n",
       " 106: {'Product ID': '6',\n",
       "  'Product Name': 'Writing board',\n",
       "  'Price': 50,\n",
       "  'Quantity': 494,\n",
       "  'Category': 'Stationary'},\n",
       " 107: {'Product ID': '7',\n",
       "  'Product Name': 'School bag',\n",
       "  'Price': 600,\n",
       "  'Quantity': 1000,\n",
       "  'Category': 'Stationary'},\n",
       " 108: {'Product ID': '8',\n",
       "  'Product Name': 'Pen',\n",
       "  'Price': 30,\n",
       "  'Quantity': 2000,\n",
       "  'Category': 'Stationary'},\n",
       " 109: {'Product ID': '9',\n",
       "  'Product Name': 'File',\n",
       "  'Price': 20,\n",
       "  'Quantity': 250,\n",
       "  'Category': 'Stationary'},\n",
       " 110: {'Product ID': '10',\n",
       "  'Product Name': 'Notebook',\n",
       "  'Price': 40,\n",
       "  'Quantity': 450,\n",
       "  'Category': 'Stationary'},\n",
       " 111: {'Product ID': '11',\n",
       "  'Product Name': 'Purse',\n",
       "  'Price': 60,\n",
       "  'Quantity': 600,\n",
       "  'Category': 'Stationary'},\n",
       " 112: {'Product ID': '12',\n",
       "  'Product Name': 'Stencil',\n",
       "  'Price': 30,\n",
       "  'Quantity': 500,\n",
       "  'Category': 'Stationary'},\n",
       " 113: {'Product ID': '13',\n",
       "  'Product Name': 'Compass box',\n",
       "  'Price': 30,\n",
       "  'Quantity': 700,\n",
       "  'Category': 'Stationary'},\n",
       " 114: {'Product ID': '14',\n",
       "  'Product Name': 'File',\n",
       "  'Price': 45,\n",
       "  'Quantity': 1000,\n",
       "  'Category': 'Stationary'},\n",
       " 115: {'Product ID': '15',\n",
       "  'Product Name': 'Folder',\n",
       "  'Price': 10,\n",
       "  'Quantity': 2000,\n",
       "  'Category': 'Stationary'},\n",
       " 116: {'Product ID': '16',\n",
       "  'Product Name': 'Water Bottle',\n",
       "  'Price': 100,\n",
       "  'Quantity': 678,\n",
       "  'Category': 'Stationary'},\n",
       " 117: {'Product ID': '17',\n",
       "  'Product Name': 'Lunch Box',\n",
       "  'Price': 127,\n",
       "  'Quantity': 488,\n",
       "  'Category': 'Stationary'},\n",
       " 118: {'Product ID': '18',\n",
       "  'Product Name': 'Fevicol',\n",
       "  'Price': 20,\n",
       "  'Quantity': 645,\n",
       "  'Category': 'Stationary'},\n",
       " 119: {'Product ID': '19',\n",
       "  'Product Name': 'Scissor',\n",
       "  'Price': 35,\n",
       "  'Quantity': 837,\n",
       "  'Category': 'Stationary'},\n",
       " 120: {'Product ID': '20',\n",
       "  'Product Name': 'Chart',\n",
       "  'Price': 20,\n",
       "  'Quantity': 837,\n",
       "  'Category': 'Stationary'},\n",
       " 121: {'Product ID': '21',\n",
       "  'Product Name': 'Calculator',\n",
       "  'Price': 200,\n",
       "  'Quantity': 383,\n",
       "  'Category': 'Stationary'},\n",
       " 122: {'Product ID': '22',\n",
       "  'Product Name': 'Sticky Notes',\n",
       "  'Price': 40,\n",
       "  'Quantity': 873,\n",
       "  'Category': 'Stationary'},\n",
       " 123: {'Product ID': '23',\n",
       "  'Product Name': 'Sketch Pen',\n",
       "  'Price': 12,\n",
       "  'Quantity': 337,\n",
       "  'Category': 'Stationary'},\n",
       " 124: {'Product ID': '24',\n",
       "  'Product Name': 'Water colors',\n",
       "  'Price': 60,\n",
       "  'Quantity': 838,\n",
       "  'Category': 'Stationary'},\n",
       " 125: {'Product ID': '25',\n",
       "  'Product Name': 'Crayons',\n",
       "  'Price': 40,\n",
       "  'Quantity': 383,\n",
       "  'Category': 'Stationary'},\n",
       " 126: {'Product ID': '26',\n",
       "  'Product Name': 'Pencil colors',\n",
       "  'Price': 50,\n",
       "  'Quantity': 393,\n",
       "  'Category': 'Stationary'},\n",
       " 127: {'Product ID': '27',\n",
       "  'Product Name': 'Scale',\n",
       "  'Price': 10,\n",
       "  'Quantity': 1928,\n",
       "  'Category': 'Stationary'},\n",
       " 128: {'Product ID': '28',\n",
       "  'Product Name': 'Eraser',\n",
       "  'Price': 5,\n",
       "  'Quantity': 292,\n",
       "  'Category': 'Stationary'},\n",
       " 129: {'Product ID': '29',\n",
       "  'Product Name': 'Sharpner',\n",
       "  'Price': 5,\n",
       "  'Quantity': 392,\n",
       "  'Category': 'Stationary'},\n",
       " 130: {'Product ID': '30',\n",
       "  'Product Name': 'Stepler',\n",
       "  'Price': 45,\n",
       "  'Quantity': 948,\n",
       "  'Category': 'Stationary'}}"
      ]
     },
     "execution_count": 41,
     "metadata": {},
     "output_type": "execute_result"
    }
   ],
   "source": [
    "record"
   ]
  },
  {
   "cell_type": "code",
   "execution_count": 42,
   "id": "dde05101",
   "metadata": {},
   "outputs": [
    {
     "data": {
      "text/plain": [
       "str"
      ]
     },
     "execution_count": 42,
     "metadata": {},
     "output_type": "execute_result"
    }
   ],
   "source": [
    "type(js)"
   ]
  },
  {
   "cell_type": "code",
   "execution_count": 43,
   "id": "14442f05",
   "metadata": {},
   "outputs": [
    {
     "data": {
      "text/plain": [
       "dict"
      ]
     },
     "execution_count": 43,
     "metadata": {},
     "output_type": "execute_result"
    }
   ],
   "source": [
    "type(record)"
   ]
  },
  {
   "cell_type": "code",
   "execution_count": 44,
   "id": "e76ae5c1",
   "metadata": {},
   "outputs": [],
   "source": [
    "fd = open(\"record.json\",'w')\n",
    "fd.write(js)\n",
    "fd.close()"
   ]
  },
  {
   "cell_type": "code",
   "execution_count": 45,
   "id": "bb004521",
   "metadata": {},
   "outputs": [],
   "source": [
    "fd = open(\"record.json\",'r')\n",
    "fd.read()\n",
    "fd.close()"
   ]
  },
  {
   "cell_type": "code",
   "execution_count": 46,
   "id": "d6f82ffe",
   "metadata": {},
   "outputs": [],
   "source": [
    "record = json.loads(js)"
   ]
  },
  {
   "cell_type": "code",
   "execution_count": 47,
   "id": "e067dcb9",
   "metadata": {},
   "outputs": [
    {
     "data": {
      "text/plain": [
       "'{\"101\": {\"Product ID\": \"1\", \"Product Name\": \"Craft paper\", \"Price\": 40, \"Quantity\": 484, \"Category\": \"Stationary\"}, \"102\": {\"Product ID\": \"2\", \"Product Name\": \"Graph paper\", \"Price\": 5, \"Quantity\": 100, \"Category\": \"Stationary\"}, \"103\": {\"Product ID\": \"3\", \"Product Name\": \"Marker\", \"Price\": 20, \"Quantity\": 837, \"Category\": \"Stationary\"}, \"104\": {\"Product ID\": \"4\", \"Product Name\": \"Whitner\", \"Price\": 45, \"Quantity\": 288, \"Category\": \"Stationary\"}, \"105\": {\"Product ID\": \"5\", \"Product Name\": \"Brown cover paper\", \"Price\": 30, \"Quantity\": 118, \"Category\": \"Stationary\"}, \"106\": {\"Product ID\": \"6\", \"Product Name\": \"Writing board\", \"Price\": 50, \"Quantity\": 494, \"Category\": \"Stationary\"}, \"107\": {\"Product ID\": \"7\", \"Product Name\": \"School bag\", \"Price\": 600, \"Quantity\": 1000, \"Category\": \"Stationary\"}, \"108\": {\"Product ID\": \"8\", \"Product Name\": \"Pen\", \"Price\": 30, \"Quantity\": 2000, \"Category\": \"Stationary\"}, \"109\": {\"Product ID\": \"9\", \"Product Name\": \"File\", \"Price\": 20, \"Quantity\": 250, \"Category\": \"Stationary\"}, \"110\": {\"Product ID\": \"10\", \"Product Name\": \"Notebook\", \"Price\": 40, \"Quantity\": 450, \"Category\": \"Stationary\"}, \"111\": {\"Product ID\": \"11\", \"Product Name\": \"Purse\", \"Price\": 60, \"Quantity\": 600, \"Category\": \"Stationary\"}, \"112\": {\"Product ID\": \"12\", \"Product Name\": \"Stencil\", \"Price\": 30, \"Quantity\": 500, \"Category\": \"Stationary\"}, \"113\": {\"Product ID\": \"13\", \"Product Name\": \"Compass box\", \"Price\": 30, \"Quantity\": 700, \"Category\": \"Stationary\"}, \"114\": {\"Product ID\": \"14\", \"Product Name\": \"File\", \"Price\": 45, \"Quantity\": 1000, \"Category\": \"Stationary\"}, \"115\": {\"Product ID\": \"15\", \"Product Name\": \"Folder\", \"Price\": 10, \"Quantity\": 2000, \"Category\": \"Stationary\"}, \"116\": {\"Product ID\": \"16\", \"Product Name\": \"Water Bottle\", \"Price\": 100, \"Quantity\": 678, \"Category\": \"Stationary\"}, \"117\": {\"Product ID\": \"17\", \"Product Name\": \"Lunch Box\", \"Price\": 127, \"Quantity\": 488, \"Category\": \"Stationary\"}, \"118\": {\"Product ID\": \"18\", \"Product Name\": \"Fevicol\", \"Price\": 20, \"Quantity\": 645, \"Category\": \"Stationary\"}, \"119\": {\"Product ID\": \"19\", \"Product Name\": \"Scissor\", \"Price\": 35, \"Quantity\": 837, \"Category\": \"Stationary\"}, \"120\": {\"Product ID\": \"20\", \"Product Name\": \"Chart\", \"Price\": 20, \"Quantity\": 837, \"Category\": \"Stationary\"}, \"121\": {\"Product ID\": \"21\", \"Product Name\": \"Calculator\", \"Price\": 200, \"Quantity\": 383, \"Category\": \"Stationary\"}, \"122\": {\"Product ID\": \"22\", \"Product Name\": \"Sticky Notes\", \"Price\": 40, \"Quantity\": 873, \"Category\": \"Stationary\"}, \"123\": {\"Product ID\": \"23\", \"Product Name\": \"Sketch Pen\", \"Price\": 12, \"Quantity\": 337, \"Category\": \"Stationary\"}, \"124\": {\"Product ID\": \"24\", \"Product Name\": \"Water colors\", \"Price\": 60, \"Quantity\": 838, \"Category\": \"Stationary\"}, \"125\": {\"Product ID\": \"25\", \"Product Name\": \"Crayons\", \"Price\": 40, \"Quantity\": 383, \"Category\": \"Stationary\"}, \"126\": {\"Product ID\": \"26\", \"Product Name\": \"Pencil colors\", \"Price\": 50, \"Quantity\": 393, \"Category\": \"Stationary\"}, \"127\": {\"Product ID\": \"27\", \"Product Name\": \"Scale\", \"Price\": 10, \"Quantity\": 1928, \"Category\": \"Stationary\"}, \"128\": {\"Product ID\": \"28\", \"Product Name\": \"Eraser\", \"Price\": 5, \"Quantity\": 292, \"Category\": \"Stationary\"}, \"129\": {\"Product ID\": \"29\", \"Product Name\": \"Sharpner\", \"Price\": 5, \"Quantity\": 392, \"Category\": \"Stationary\"}, \"130\": {\"Product ID\": \"30\", \"Product Name\": \"Stepler\", \"Price\": 45, \"Quantity\": 948, \"Category\": \"Stationary\"}}'"
      ]
     },
     "execution_count": 47,
     "metadata": {},
     "output_type": "execute_result"
    }
   ],
   "source": [
    "js"
   ]
  },
  {
   "cell_type": "code",
   "execution_count": 48,
   "id": "d8d8f794",
   "metadata": {},
   "outputs": [
    {
     "data": {
      "text/plain": [
       "{'Product ID': '14',\n",
       " 'Product Name': 'File',\n",
       " 'Price': 45,\n",
       " 'Quantity': 1000,\n",
       " 'Category': 'Stationary'}"
      ]
     },
     "execution_count": 48,
     "metadata": {},
     "output_type": "execute_result"
    }
   ],
   "source": [
    "record['114']"
   ]
  },
  {
   "cell_type": "code",
   "execution_count": 49,
   "id": "e107a83b",
   "metadata": {},
   "outputs": [],
   "source": [
    "import time"
   ]
  },
  {
   "cell_type": "code",
   "execution_count": 50,
   "id": "3546c771",
   "metadata": {},
   "outputs": [
    {
     "data": {
      "text/plain": [
       "'Mon Sep  6 17:14:48 2021'"
      ]
     },
     "execution_count": 50,
     "metadata": {},
     "output_type": "execute_result"
    }
   ],
   "source": [
    "time.ctime()"
   ]
  },
  {
   "cell_type": "code",
   "execution_count": 51,
   "id": "5aca4feb",
   "metadata": {},
   "outputs": [
    {
     "data": {
      "text/plain": [
       "dict_values([{'Product ID': '1', 'Product Name': 'Craft paper', 'Price': 40, 'Quantity': 484, 'Category': 'Stationary'}, {'Product ID': '2', 'Product Name': 'Graph paper', 'Price': 5, 'Quantity': 100, 'Category': 'Stationary'}, {'Product ID': '3', 'Product Name': 'Marker', 'Price': 20, 'Quantity': 837, 'Category': 'Stationary'}, {'Product ID': '4', 'Product Name': 'Whitner', 'Price': 45, 'Quantity': 288, 'Category': 'Stationary'}, {'Product ID': '5', 'Product Name': 'Brown cover paper', 'Price': 30, 'Quantity': 118, 'Category': 'Stationary'}, {'Product ID': '6', 'Product Name': 'Writing board', 'Price': 50, 'Quantity': 494, 'Category': 'Stationary'}, {'Product ID': '7', 'Product Name': 'School bag', 'Price': 600, 'Quantity': 1000, 'Category': 'Stationary'}, {'Product ID': '8', 'Product Name': 'Pen', 'Price': 30, 'Quantity': 2000, 'Category': 'Stationary'}, {'Product ID': '9', 'Product Name': 'File', 'Price': 20, 'Quantity': 250, 'Category': 'Stationary'}, {'Product ID': '10', 'Product Name': 'Notebook', 'Price': 40, 'Quantity': 450, 'Category': 'Stationary'}, {'Product ID': '11', 'Product Name': 'Purse', 'Price': 60, 'Quantity': 600, 'Category': 'Stationary'}, {'Product ID': '12', 'Product Name': 'Stencil', 'Price': 30, 'Quantity': 500, 'Category': 'Stationary'}, {'Product ID': '13', 'Product Name': 'Compass box', 'Price': 30, 'Quantity': 700, 'Category': 'Stationary'}, {'Product ID': '14', 'Product Name': 'File', 'Price': 45, 'Quantity': 1000, 'Category': 'Stationary'}, {'Product ID': '15', 'Product Name': 'Folder', 'Price': 10, 'Quantity': 2000, 'Category': 'Stationary'}, {'Product ID': '16', 'Product Name': 'Water Bottle', 'Price': 100, 'Quantity': 678, 'Category': 'Stationary'}, {'Product ID': '17', 'Product Name': 'Lunch Box', 'Price': 127, 'Quantity': 488, 'Category': 'Stationary'}, {'Product ID': '18', 'Product Name': 'Fevicol', 'Price': 20, 'Quantity': 645, 'Category': 'Stationary'}, {'Product ID': '19', 'Product Name': 'Scissor', 'Price': 35, 'Quantity': 837, 'Category': 'Stationary'}, {'Product ID': '20', 'Product Name': 'Chart', 'Price': 20, 'Quantity': 837, 'Category': 'Stationary'}, {'Product ID': '21', 'Product Name': 'Calculator', 'Price': 200, 'Quantity': 383, 'Category': 'Stationary'}, {'Product ID': '22', 'Product Name': 'Sticky Notes', 'Price': 40, 'Quantity': 873, 'Category': 'Stationary'}, {'Product ID': '23', 'Product Name': 'Sketch Pen', 'Price': 12, 'Quantity': 337, 'Category': 'Stationary'}, {'Product ID': '24', 'Product Name': 'Water colors', 'Price': 60, 'Quantity': 838, 'Category': 'Stationary'}, {'Product ID': '25', 'Product Name': 'Crayons', 'Price': 40, 'Quantity': 383, 'Category': 'Stationary'}, {'Product ID': '26', 'Product Name': 'Pencil colors', 'Price': 50, 'Quantity': 393, 'Category': 'Stationary'}, {'Product ID': '27', 'Product Name': 'Scale', 'Price': 10, 'Quantity': 1928, 'Category': 'Stationary'}, {'Product ID': '28', 'Product Name': 'Eraser', 'Price': 5, 'Quantity': 292, 'Category': 'Stationary'}, {'Product ID': '29', 'Product Name': 'Sharpner', 'Price': 5, 'Quantity': 392, 'Category': 'Stationary'}, {'Product ID': '30', 'Product Name': 'Stepler', 'Price': 45, 'Quantity': 948, 'Category': 'Stationary'}])"
      ]
     },
     "execution_count": 51,
     "metadata": {},
     "output_type": "execute_result"
    }
   ],
   "source": [
    "record.values()"
   ]
  },
  {
   "cell_type": "code",
   "execution_count": 52,
   "id": "c770d51d",
   "metadata": {},
   "outputs": [],
   "source": [
    "import json"
   ]
  },
  {
   "cell_type": "code",
   "execution_count": 53,
   "id": "796f0c74",
   "metadata": {},
   "outputs": [],
   "source": [
    "fd = open('ETG.json','r')\n",
    "json = fd.read()\n",
    "fd.close()"
   ]
  },
  {
   "cell_type": "code",
   "execution_count": 54,
   "id": "8d2f40a2",
   "metadata": {},
   "outputs": [
    {
     "data": {
      "text/plain": [
       "'1,Craft paper,40,426,Stationary\\n2,Graph paper,2,99,Stationary\\n3,Marker,20,830,Stationary\\n4,Whitner,45,288,Stationary\\n5,Brown cover paper,30,115,Stationary\\n6,Writing board,50,490,Stationary\\n7,School bag,600,1000,Stationary\\n8,Pen,30,2000,Stationary\\n9,File,20,250,Stationary\\n10,Notebook,40,450,Stationary\\n11,Purse,60,600,Stationary\\n12,Stencil,30,500,Stationary\\n13,Compass box,30,700,Stationary\\n14,File,45,998,Stationary\\n15,Folder,10,2000,Stationary\\n16,Water Bottle,100,678,Stationary\\n17,Lunch Box,127,488,Stationary\\n18,Fevicol,20,640,Stationary\\n19,Scissor,35,837,Stationary\\n20,Chart,20,832,Stationary\\n21,Calculator,200,383,Stationary\\n22,Sticky Notes,40,873,Stationary\\n23,Sketch Pen,12,337,Stationary\\n24,Water colors,60,838,Stationary\\n25,Crayons,40,383,Stationary\\n26,Pencil colors,50,393,Stationary\\n27,Scale,10,1928,Stationary\\n28,Eraser,5,292,Stationary\\n29,Sharpner,5,392,Stationary\\n30,Stepler,45,938,Stationary\\n'"
      ]
     },
     "execution_count": 54,
     "metadata": {},
     "output_type": "execute_result"
    }
   ],
   "source": [
    "json"
   ]
  },
  {
   "cell_type": "code",
   "execution_count": 55,
   "id": "301c111d",
   "metadata": {},
   "outputs": [],
   "source": [
    "products = json.split(\"\\n\")"
   ]
  },
  {
   "cell_type": "code",
   "execution_count": 56,
   "id": "2fa3410c",
   "metadata": {},
   "outputs": [
    {
     "data": {
      "text/plain": [
       "['1,Craft paper,40,426,Stationary',\n",
       " '2,Graph paper,2,99,Stationary',\n",
       " '3,Marker,20,830,Stationary',\n",
       " '4,Whitner,45,288,Stationary',\n",
       " '5,Brown cover paper,30,115,Stationary',\n",
       " '6,Writing board,50,490,Stationary',\n",
       " '7,School bag,600,1000,Stationary',\n",
       " '8,Pen,30,2000,Stationary',\n",
       " '9,File,20,250,Stationary',\n",
       " '10,Notebook,40,450,Stationary',\n",
       " '11,Purse,60,600,Stationary',\n",
       " '12,Stencil,30,500,Stationary',\n",
       " '13,Compass box,30,700,Stationary',\n",
       " '14,File,45,998,Stationary',\n",
       " '15,Folder,10,2000,Stationary',\n",
       " '16,Water Bottle,100,678,Stationary',\n",
       " '17,Lunch Box,127,488,Stationary',\n",
       " '18,Fevicol,20,640,Stationary',\n",
       " '19,Scissor,35,837,Stationary',\n",
       " '20,Chart,20,832,Stationary',\n",
       " '21,Calculator,200,383,Stationary',\n",
       " '22,Sticky Notes,40,873,Stationary',\n",
       " '23,Sketch Pen,12,337,Stationary',\n",
       " '24,Water colors,60,838,Stationary',\n",
       " '25,Crayons,40,383,Stationary',\n",
       " '26,Pencil colors,50,393,Stationary',\n",
       " '27,Scale,10,1928,Stationary',\n",
       " '28,Eraser,5,292,Stationary',\n",
       " '29,Sharpner,5,392,Stationary',\n",
       " '30,Stepler,45,938,Stationary',\n",
       " '']"
      ]
     },
     "execution_count": 56,
     "metadata": {},
     "output_type": "execute_result"
    }
   ],
   "source": [
    "products"
   ]
  },
  {
   "cell_type": "code",
   "execution_count": 57,
   "id": "4535941e",
   "metadata": {},
   "outputs": [
    {
     "name": "stdout",
     "output_type": "stream",
     "text": [
      "['1', 'Craft paper', '40', '426', 'Stationary']\n",
      "['2', 'Graph paper', '2', '99', 'Stationary']\n",
      "['3', 'Marker', '20', '830', 'Stationary']\n",
      "['4', 'Whitner', '45', '288', 'Stationary']\n",
      "['5', 'Brown cover paper', '30', '115', 'Stationary']\n",
      "['6', 'Writing board', '50', '490', 'Stationary']\n",
      "['7', 'School bag', '600', '1000', 'Stationary']\n",
      "['8', 'Pen', '30', '2000', 'Stationary']\n",
      "['9', 'File', '20', '250', 'Stationary']\n",
      "['10', 'Notebook', '40', '450', 'Stationary']\n",
      "['11', 'Purse', '60', '600', 'Stationary']\n",
      "['12', 'Stencil', '30', '500', 'Stationary']\n",
      "['13', 'Compass box', '30', '700', 'Stationary']\n",
      "['14', 'File', '45', '998', 'Stationary']\n",
      "['15', 'Folder', '10', '2000', 'Stationary']\n",
      "['16', 'Water Bottle', '100', '678', 'Stationary']\n",
      "['17', 'Lunch Box', '127', '488', 'Stationary']\n",
      "['18', 'Fevicol', '20', '640', 'Stationary']\n",
      "['19', 'Scissor', '35', '837', 'Stationary']\n",
      "['20', 'Chart', '20', '832', 'Stationary']\n",
      "['21', 'Calculator', '200', '383', 'Stationary']\n",
      "['22', 'Sticky Notes', '40', '873', 'Stationary']\n",
      "['23', 'Sketch Pen', '12', '337', 'Stationary']\n",
      "['24', 'Water colors', '60', '838', 'Stationary']\n",
      "['25', 'Crayons', '40', '383', 'Stationary']\n",
      "['26', 'Pencil colors', '50', '393', 'Stationary']\n",
      "['27', 'Scale', '10', '1928', 'Stationary']\n",
      "['28', 'Eraser', '5', '292', 'Stationary']\n",
      "['29', 'Sharpner', '5', '392', 'Stationary']\n",
      "['30', 'Stepler', '45', '938', 'Stationary']\n",
      "['']\n"
     ]
    }
   ],
   "source": [
    "for product in products:\n",
    "    print(product.split(\",\"))"
   ]
  },
  {
   "cell_type": "code",
   "execution_count": 58,
   "id": "0a8f79b0",
   "metadata": {},
   "outputs": [
    {
     "data": {
      "text/plain": [
       "'15,Folder,10,2000,Stationary'"
      ]
     },
     "execution_count": 58,
     "metadata": {},
     "output_type": "execute_result"
    }
   ],
   "source": [
    "products[14]"
   ]
  },
  {
   "cell_type": "markdown",
   "id": "a55a7ca9",
   "metadata": {},
   "source": [
    "# Purchase and Bill:"
   ]
  },
  {
   "cell_type": "code",
   "execution_count": 111,
   "id": "838c8428",
   "metadata": {},
   "outputs": [
    {
     "name": "stdout",
     "output_type": "stream",
     "text": [
      "***************************************************************\n",
      "Enter Product ID: 1\n",
      "Enter Product Quantity: 1\n",
      "***************************************************************\n",
      "Product ID:  1\n",
      "Name:  Craft paper\n",
      "Quantity:  1\n",
      "Price:  40\n",
      "Category:  Stationary\n",
      "TOTAL PRICE:  1 *  40\n",
      "***************************************************************\n",
      "Billing Amount:  40\n",
      "***************************************************************\n"
     ]
    }
   ],
   "source": [
    "print(\"***************************************************************\")\n",
    "ui_prod = str(input(\"Enter Product ID: \"))\n",
    "ui_quant = input(\"Enter Product Quantity: \")\n",
    "\n",
    "for product in products:\n",
    "    prod = product.split(\",\")\n",
    "    \n",
    "    if (ui_prod == prod[0]):\n",
    "        \n",
    "        print(\"***************************************************************\")\n",
    "        print(\"Product ID: \",prod[0])\n",
    "        print(\"Name: \",prod[1])\n",
    "        print(\"Quantity: \",ui_quant)\n",
    "        print(\"Price: \",prod[2])\n",
    "        print(\"Category: \",prod[4])\n",
    "        print(\"TOTAL PRICE: \",ui_quant + \" *\" + \" \",prod[2])\n",
    "        print(\"***************************************************************\")\n",
    "        print(\"Billing Amount: \",int(ui_quant) * int(prod[2]))\n",
    "        print(\"***************************************************************\")"
   ]
  },
  {
   "cell_type": "code",
   "execution_count": 79,
   "id": "47d563fc",
   "metadata": {},
   "outputs": [],
   "source": [
    "fd = open('ETG.json','r')\n",
    "txt = fd.read()\n",
    "fd.close()\n",
    "\n",
    "products = txt.split(\"\\n\")\n",
    "\n",
    "new_data = []\n",
    "\n",
    "for i in products:\n",
    "    prod = i.split(\",\")\n",
    "    \n",
    "    if (ui_prod == prod[0]):\n",
    "        new_data.append(prod[0] + \",\" + prod[1] + \",\" + prod[2] + \",\" + str(int(prod[3]) - int(ui_quant)) + \"\\n\")\n",
    "    else:\n",
    "        new_data.append(prod[0] + \",\" + prod[1] + \",\" + prod[2] + \",\" + prod[3] + \"\\n\")"
   ]
  },
  {
   "cell_type": "code",
   "execution_count": 80,
   "id": "965583c1",
   "metadata": {},
   "outputs": [
    {
     "data": {
      "text/plain": [
       "['1,Craft paper,40,426\\n']"
      ]
     },
     "execution_count": 80,
     "metadata": {},
     "output_type": "execute_result"
    }
   ],
   "source": [
    "new_data"
   ]
  },
  {
   "cell_type": "code",
   "execution_count": 63,
   "id": "07bc8d8b",
   "metadata": {},
   "outputs": [],
   "source": [
    "fd = open('ETG.json','w')\n",
    "\n",
    "for i in new_data:\n",
    "    fd.write(i)\n",
    "    \n",
    "fd.close()"
   ]
  },
  {
   "cell_type": "code",
   "execution_count": 66,
   "id": "917036f8",
   "metadata": {},
   "outputs": [],
   "source": [
    "fd = open('ETG.json','r')\n",
    "json = fd.read()\n",
    "fd.close()"
   ]
  },
  {
   "cell_type": "code",
   "execution_count": 67,
   "id": "7bedff3e",
   "metadata": {},
   "outputs": [
    {
     "data": {
      "text/plain": [
       "'1,Craft paper,40,426,Stationary\\n2,Graph paper,2,99,Stationary\\n3,Marker,20,830,Stationary\\n4,Whitner,45,288,Stationary\\n5,Brown cover paper,30,115,Stationary\\n6,Writing board,50,490,Stationary\\n7,School bag,600,1000,Stationary\\n8,Pen,30,2000,Stationary\\n9,File,20,250,Stationary\\n10,Notebook,40,450,Stationary\\n11,Purse,60,600,Stationary\\n12,Stencil,30,500,Stationary\\n13,Compass box,30,700,Stationary\\n14,File,45,998,Stationary\\n15,Folder,10,2000,Stationary\\n16,Water Bottle,100,678,Stationary\\n17,Lunch Box,127,488,Stationary\\n18,Fevicol,20,640,Stationary\\n19,Scissor,35,837,Stationary\\n20,Chart,20,832,Stationary\\n21,Calculator,200,383,Stationary\\n22,Sticky Notes,40,873,Stationary\\n23,Sketch Pen,12,337,Stationary\\n24,Water colors,60,838,Stationary\\n25,Crayons,40,383,Stationary\\n26,Pencil colors,50,393,Stationary\\n27,Scale,10,1928,Stationary\\n28,Eraser,5,292,Stationary\\n29,Sharpner,5,392,Stationary\\n30,Stepler,45,938,Stationary'"
      ]
     },
     "execution_count": 67,
     "metadata": {},
     "output_type": "execute_result"
    }
   ],
   "source": [
    "json"
   ]
  },
  {
   "cell_type": "markdown",
   "id": "49e014cc",
   "metadata": {},
   "source": [
    "# Sales"
   ]
  },
  {
   "cell_type": "code",
   "execution_count": 92,
   "id": "94b1e33f",
   "metadata": {},
   "outputs": [],
   "source": [
    "sales = {201 : {\"Product ID\":\"1\",\"Product Name\":\"Craft paper\",\"Price\":40,\"Quantity sold\":2,\"Category\":\"Stationary\"},\n",
    "         202 : {\"Product ID\":\"2\",\"Product Name\":\"Graph paper\",\"Price\":2,\"Quantity sold\":1,\"Category\":\"Stationary\"},\n",
    "         214 : {\"Product ID\":\"14\",\"Product Name\":\"File\",\"Price\":45,\"Quantity sold\":2,\"Category\":\"Stationary\"},\n",
    "         205 : {\"Product ID\":\"5\",\"Product Name\":\"Brown cover paper\",\"Price\":30,\"Quantity sold\":3,\"Category\":\"Stationary\"},\n",
    "         206 : {\"Product ID\":\"6\",\"Product Name\":\"Writing board\",\"Price\":50,\"Quantity sold\":4,\"Category\":\"Stationary\"},\n",
    "         218 : {\"Product ID\":\"18\",\"Product Name\":\"Fevicol\",\"Price\":20,\"Quantity sold\":5,\"Category\":\"Stationary\"},\n",
    "         230 : {\"Product ID\":\"30\",\"Product Name\":\"Stepler\",\"Price\":45,\"Quantity sold\":10,\"Category\":\"Stationary\"},\n",
    "         220 : {\"Product ID\":\"20\",\"Product Name\":\"Chart\",\"Price\":20,\"Quantity sold\":5,\"Category\":\"Stationary\"},\n",
    "         203 : {\"Product ID\":\"3\",\"Product Name\":\"Marker\",\"Price\":20,\"Quantity sold\":7,\"Category\":\"Stationary\"},\n",
    "         301 : {\"Product ID\":\"1\",\"Product Name\":\"Craft paper\",\"Price\":40,\"Quantity sold\":56,\"Category\":\"Stationary\"},\n",
    "        }"
   ]
  },
  {
   "cell_type": "code",
   "execution_count": 93,
   "id": "984efccd",
   "metadata": {},
   "outputs": [
    {
     "data": {
      "text/plain": [
       "{201: {'Product ID': '1',\n",
       "  'Product Name': 'Craft paper',\n",
       "  'Price': 40,\n",
       "  'Quantity sold': 2,\n",
       "  'Category': 'Stationary'},\n",
       " 202: {'Product ID': '2',\n",
       "  'Product Name': 'Graph paper',\n",
       "  'Price': 2,\n",
       "  'Quantity sold': 1,\n",
       "  'Category': 'Stationary'},\n",
       " 214: {'Product ID': '14',\n",
       "  'Product Name': 'File',\n",
       "  'Price': 45,\n",
       "  'Quantity sold': 2,\n",
       "  'Category': 'Stationary'},\n",
       " 205: {'Product ID': '5',\n",
       "  'Product Name': 'Brown cover paper',\n",
       "  'Price': 30,\n",
       "  'Quantity sold': 3,\n",
       "  'Category': 'Stationary'},\n",
       " 206: {'Product ID': '6',\n",
       "  'Product Name': 'Writing board',\n",
       "  'Price': 50,\n",
       "  'Quantity sold': 4,\n",
       "  'Category': 'Stationary'},\n",
       " 218: {'Product ID': '18',\n",
       "  'Product Name': 'Fevicol',\n",
       "  'Price': 20,\n",
       "  'Quantity sold': 5,\n",
       "  'Category': 'Stationary'},\n",
       " 230: {'Product ID': '30',\n",
       "  'Product Name': 'Stepler',\n",
       "  'Price': 45,\n",
       "  'Quantity sold': 10,\n",
       "  'Category': 'Stationary'},\n",
       " 220: {'Product ID': '20',\n",
       "  'Product Name': 'Chart',\n",
       "  'Price': 20,\n",
       "  'Quantity sold': 5,\n",
       "  'Category': 'Stationary'},\n",
       " 203: {'Product ID': '3',\n",
       "  'Product Name': 'Marker',\n",
       "  'Price': 20,\n",
       "  'Quantity sold': 7,\n",
       "  'Category': 'Stationary'},\n",
       " 301: {'Product ID': '1',\n",
       "  'Product Name': 'Craft paper',\n",
       "  'Price': 40,\n",
       "  'Quantity sold': 56,\n",
       "  'Category': 'Stationary'}}"
      ]
     },
     "execution_count": 93,
     "metadata": {},
     "output_type": "execute_result"
    }
   ],
   "source": [
    "sales"
   ]
  },
  {
   "cell_type": "code",
   "execution_count": 94,
   "id": "ca87e788",
   "metadata": {},
   "outputs": [],
   "source": [
    "import json"
   ]
  },
  {
   "cell_type": "code",
   "execution_count": 95,
   "id": "27481d2e",
   "metadata": {},
   "outputs": [],
   "source": [
    "sold = json.dumps(sales)"
   ]
  },
  {
   "cell_type": "code",
   "execution_count": 96,
   "id": "b769d994",
   "metadata": {},
   "outputs": [
    {
     "data": {
      "text/plain": [
       "'{\"201\": {\"Product ID\": \"1\", \"Product Name\": \"Craft paper\", \"Price\": 40, \"Quantity sold\": 2, \"Category\": \"Stationary\"}, \"202\": {\"Product ID\": \"2\", \"Product Name\": \"Graph paper\", \"Price\": 2, \"Quantity sold\": 1, \"Category\": \"Stationary\"}, \"214\": {\"Product ID\": \"14\", \"Product Name\": \"File\", \"Price\": 45, \"Quantity sold\": 2, \"Category\": \"Stationary\"}, \"205\": {\"Product ID\": \"5\", \"Product Name\": \"Brown cover paper\", \"Price\": 30, \"Quantity sold\": 3, \"Category\": \"Stationary\"}, \"206\": {\"Product ID\": \"6\", \"Product Name\": \"Writing board\", \"Price\": 50, \"Quantity sold\": 4, \"Category\": \"Stationary\"}, \"218\": {\"Product ID\": \"18\", \"Product Name\": \"Fevicol\", \"Price\": 20, \"Quantity sold\": 5, \"Category\": \"Stationary\"}, \"230\": {\"Product ID\": \"30\", \"Product Name\": \"Stepler\", \"Price\": 45, \"Quantity sold\": 10, \"Category\": \"Stationary\"}, \"220\": {\"Product ID\": \"20\", \"Product Name\": \"Chart\", \"Price\": 20, \"Quantity sold\": 5, \"Category\": \"Stationary\"}, \"203\": {\"Product ID\": \"3\", \"Product Name\": \"Marker\", \"Price\": 20, \"Quantity sold\": 7, \"Category\": \"Stationary\"}, \"301\": {\"Product ID\": \"1\", \"Product Name\": \"Craft paper\", \"Price\": 40, \"Quantity sold\": 56, \"Category\": \"Stationary\"}}'"
      ]
     },
     "execution_count": 96,
     "metadata": {},
     "output_type": "execute_result"
    }
   ],
   "source": [
    "sold"
   ]
  },
  {
   "cell_type": "code",
   "execution_count": 97,
   "id": "2f61fb0d",
   "metadata": {},
   "outputs": [
    {
     "data": {
      "text/plain": [
       "{201: {'Product ID': '1',\n",
       "  'Product Name': 'Craft paper',\n",
       "  'Price': 40,\n",
       "  'Quantity sold': 2,\n",
       "  'Category': 'Stationary'},\n",
       " 202: {'Product ID': '2',\n",
       "  'Product Name': 'Graph paper',\n",
       "  'Price': 2,\n",
       "  'Quantity sold': 1,\n",
       "  'Category': 'Stationary'},\n",
       " 214: {'Product ID': '14',\n",
       "  'Product Name': 'File',\n",
       "  'Price': 45,\n",
       "  'Quantity sold': 2,\n",
       "  'Category': 'Stationary'},\n",
       " 205: {'Product ID': '5',\n",
       "  'Product Name': 'Brown cover paper',\n",
       "  'Price': 30,\n",
       "  'Quantity sold': 3,\n",
       "  'Category': 'Stationary'},\n",
       " 206: {'Product ID': '6',\n",
       "  'Product Name': 'Writing board',\n",
       "  'Price': 50,\n",
       "  'Quantity sold': 4,\n",
       "  'Category': 'Stationary'},\n",
       " 218: {'Product ID': '18',\n",
       "  'Product Name': 'Fevicol',\n",
       "  'Price': 20,\n",
       "  'Quantity sold': 5,\n",
       "  'Category': 'Stationary'},\n",
       " 230: {'Product ID': '30',\n",
       "  'Product Name': 'Stepler',\n",
       "  'Price': 45,\n",
       "  'Quantity sold': 10,\n",
       "  'Category': 'Stationary'},\n",
       " 220: {'Product ID': '20',\n",
       "  'Product Name': 'Chart',\n",
       "  'Price': 20,\n",
       "  'Quantity sold': 5,\n",
       "  'Category': 'Stationary'},\n",
       " 203: {'Product ID': '3',\n",
       "  'Product Name': 'Marker',\n",
       "  'Price': 20,\n",
       "  'Quantity sold': 7,\n",
       "  'Category': 'Stationary'},\n",
       " 301: {'Product ID': '1',\n",
       "  'Product Name': 'Craft paper',\n",
       "  'Price': 40,\n",
       "  'Quantity sold': 56,\n",
       "  'Category': 'Stationary'}}"
      ]
     },
     "execution_count": 97,
     "metadata": {},
     "output_type": "execute_result"
    }
   ],
   "source": [
    "sales"
   ]
  },
  {
   "cell_type": "code",
   "execution_count": 98,
   "id": "f7aa278a",
   "metadata": {},
   "outputs": [],
   "source": [
    "fd = open(\"sales.json\",'w')\n",
    "fd.write(sold)\n",
    "fd.close()"
   ]
  },
  {
   "cell_type": "code",
   "execution_count": 99,
   "id": "c1ad0867",
   "metadata": {},
   "outputs": [],
   "source": [
    "fd = open(\"sales.json\",'r')\n",
    "fd.read()\n",
    "fd.close()"
   ]
  },
  {
   "cell_type": "code",
   "execution_count": 100,
   "id": "90365971",
   "metadata": {},
   "outputs": [],
   "source": [
    "sales = json.loads(sold)"
   ]
  },
  {
   "cell_type": "code",
   "execution_count": 101,
   "id": "191d0c73",
   "metadata": {},
   "outputs": [
    {
     "data": {
      "text/plain": [
       "'{\"201\": {\"Product ID\": \"1\", \"Product Name\": \"Craft paper\", \"Price\": 40, \"Quantity sold\": 2, \"Category\": \"Stationary\"}, \"202\": {\"Product ID\": \"2\", \"Product Name\": \"Graph paper\", \"Price\": 2, \"Quantity sold\": 1, \"Category\": \"Stationary\"}, \"214\": {\"Product ID\": \"14\", \"Product Name\": \"File\", \"Price\": 45, \"Quantity sold\": 2, \"Category\": \"Stationary\"}, \"205\": {\"Product ID\": \"5\", \"Product Name\": \"Brown cover paper\", \"Price\": 30, \"Quantity sold\": 3, \"Category\": \"Stationary\"}, \"206\": {\"Product ID\": \"6\", \"Product Name\": \"Writing board\", \"Price\": 50, \"Quantity sold\": 4, \"Category\": \"Stationary\"}, \"218\": {\"Product ID\": \"18\", \"Product Name\": \"Fevicol\", \"Price\": 20, \"Quantity sold\": 5, \"Category\": \"Stationary\"}, \"230\": {\"Product ID\": \"30\", \"Product Name\": \"Stepler\", \"Price\": 45, \"Quantity sold\": 10, \"Category\": \"Stationary\"}, \"220\": {\"Product ID\": \"20\", \"Product Name\": \"Chart\", \"Price\": 20, \"Quantity sold\": 5, \"Category\": \"Stationary\"}, \"203\": {\"Product ID\": \"3\", \"Product Name\": \"Marker\", \"Price\": 20, \"Quantity sold\": 7, \"Category\": \"Stationary\"}, \"301\": {\"Product ID\": \"1\", \"Product Name\": \"Craft paper\", \"Price\": 40, \"Quantity sold\": 56, \"Category\": \"Stationary\"}}'"
      ]
     },
     "execution_count": 101,
     "metadata": {},
     "output_type": "execute_result"
    }
   ],
   "source": [
    "sold"
   ]
  },
  {
   "cell_type": "code",
   "execution_count": 102,
   "id": "dbfcc462",
   "metadata": {
    "scrolled": false
   },
   "outputs": [
    {
     "data": {
      "text/plain": [
       "{'201': {'Product ID': '1',\n",
       "  'Product Name': 'Craft paper',\n",
       "  'Price': 40,\n",
       "  'Quantity sold': 2,\n",
       "  'Category': 'Stationary'},\n",
       " '202': {'Product ID': '2',\n",
       "  'Product Name': 'Graph paper',\n",
       "  'Price': 2,\n",
       "  'Quantity sold': 1,\n",
       "  'Category': 'Stationary'},\n",
       " '214': {'Product ID': '14',\n",
       "  'Product Name': 'File',\n",
       "  'Price': 45,\n",
       "  'Quantity sold': 2,\n",
       "  'Category': 'Stationary'},\n",
       " '205': {'Product ID': '5',\n",
       "  'Product Name': 'Brown cover paper',\n",
       "  'Price': 30,\n",
       "  'Quantity sold': 3,\n",
       "  'Category': 'Stationary'},\n",
       " '206': {'Product ID': '6',\n",
       "  'Product Name': 'Writing board',\n",
       "  'Price': 50,\n",
       "  'Quantity sold': 4,\n",
       "  'Category': 'Stationary'},\n",
       " '218': {'Product ID': '18',\n",
       "  'Product Name': 'Fevicol',\n",
       "  'Price': 20,\n",
       "  'Quantity sold': 5,\n",
       "  'Category': 'Stationary'},\n",
       " '230': {'Product ID': '30',\n",
       "  'Product Name': 'Stepler',\n",
       "  'Price': 45,\n",
       "  'Quantity sold': 10,\n",
       "  'Category': 'Stationary'},\n",
       " '220': {'Product ID': '20',\n",
       "  'Product Name': 'Chart',\n",
       "  'Price': 20,\n",
       "  'Quantity sold': 5,\n",
       "  'Category': 'Stationary'},\n",
       " '203': {'Product ID': '3',\n",
       "  'Product Name': 'Marker',\n",
       "  'Price': 20,\n",
       "  'Quantity sold': 7,\n",
       "  'Category': 'Stationary'},\n",
       " '301': {'Product ID': '1',\n",
       "  'Product Name': 'Craft paper',\n",
       "  'Price': 40,\n",
       "  'Quantity sold': 56,\n",
       "  'Category': 'Stationary'}}"
      ]
     },
     "execution_count": 102,
     "metadata": {},
     "output_type": "execute_result"
    }
   ],
   "source": [
    "sales"
   ]
  },
  {
   "cell_type": "markdown",
   "id": "1a635908",
   "metadata": {},
   "source": [
    "# Add a New Item into Inventory"
   ]
  },
  {
   "cell_type": "code",
   "execution_count": 104,
   "id": "d6c9264a",
   "metadata": {},
   "outputs": [
    {
     "name": "stdout",
     "output_type": "stream",
     "text": [
      "Enter Product ID: 31\n",
      "Enter Product Name: stamp\n",
      "Enter Price: 34\n",
      "Enter Quantity: 245\n",
      "Enter Category: Stationary\n"
     ]
    }
   ],
   "source": [
    "prod_id = str(input(\"Enter Product ID: \"))\n",
    "name = str(input(\"Enter Product Name: \"))\n",
    "price = str(input(\"Enter Price: \"))\n",
    "quantity = str(input(\"Enter Quantity: \"))\n",
    "category = str(input(\"Enter Category: \"))\n",
    "\n",
    "record[prod_id] = {'name':name, 'price':price, 'quantity':quantity, 'category':category}\n",
    "\n",
    "js = json.dumps(record)\n",
    "\n",
    "fd = open(\"record.json\",'w')\n",
    "fd.write(js)\n",
    "fd.close()"
   ]
  },
  {
   "cell_type": "markdown",
   "id": "ad8f7eb0",
   "metadata": {},
   "source": [
    "## A new record is added in record:"
   ]
  },
  {
   "cell_type": "code",
   "execution_count": 105,
   "id": "5be3ea54",
   "metadata": {
    "scrolled": false
   },
   "outputs": [
    {
     "data": {
      "text/plain": [
       "{'101': {'Product ID': '1',\n",
       "  'Product Name': 'Craft paper',\n",
       "  'Price': 40,\n",
       "  'Quantity': 484,\n",
       "  'Category': 'Stationary'},\n",
       " '102': {'Product ID': '2',\n",
       "  'Product Name': 'Graph paper',\n",
       "  'Price': 5,\n",
       "  'Quantity': 100,\n",
       "  'Category': 'Stationary'},\n",
       " '103': {'Product ID': '3',\n",
       "  'Product Name': 'Marker',\n",
       "  'Price': 20,\n",
       "  'Quantity': 837,\n",
       "  'Category': 'Stationary'},\n",
       " '104': {'Product ID': '4',\n",
       "  'Product Name': 'Whitner',\n",
       "  'Price': 45,\n",
       "  'Quantity': 288,\n",
       "  'Category': 'Stationary'},\n",
       " '105': {'Product ID': '5',\n",
       "  'Product Name': 'Brown cover paper',\n",
       "  'Price': 30,\n",
       "  'Quantity': 118,\n",
       "  'Category': 'Stationary'},\n",
       " '106': {'Product ID': '6',\n",
       "  'Product Name': 'Writing board',\n",
       "  'Price': 50,\n",
       "  'Quantity': 494,\n",
       "  'Category': 'Stationary'},\n",
       " '107': {'Product ID': '7',\n",
       "  'Product Name': 'School bag',\n",
       "  'Price': 600,\n",
       "  'Quantity': 1000,\n",
       "  'Category': 'Stationary'},\n",
       " '108': {'Product ID': '8',\n",
       "  'Product Name': 'Pen',\n",
       "  'Price': 30,\n",
       "  'Quantity': 2000,\n",
       "  'Category': 'Stationary'},\n",
       " '109': {'Product ID': '9',\n",
       "  'Product Name': 'File',\n",
       "  'Price': 20,\n",
       "  'Quantity': 250,\n",
       "  'Category': 'Stationary'},\n",
       " '110': {'Product ID': '10',\n",
       "  'Product Name': 'Notebook',\n",
       "  'Price': 40,\n",
       "  'Quantity': 450,\n",
       "  'Category': 'Stationary'},\n",
       " '111': {'Product ID': '11',\n",
       "  'Product Name': 'Purse',\n",
       "  'Price': 60,\n",
       "  'Quantity': 600,\n",
       "  'Category': 'Stationary'},\n",
       " '112': {'Product ID': '12',\n",
       "  'Product Name': 'Stencil',\n",
       "  'Price': 30,\n",
       "  'Quantity': 500,\n",
       "  'Category': 'Stationary'},\n",
       " '113': {'Product ID': '13',\n",
       "  'Product Name': 'Compass box',\n",
       "  'Price': 30,\n",
       "  'Quantity': 700,\n",
       "  'Category': 'Stationary'},\n",
       " '114': {'Product ID': '14',\n",
       "  'Product Name': 'File',\n",
       "  'Price': 45,\n",
       "  'Quantity': 1000,\n",
       "  'Category': 'Stationary'},\n",
       " '115': {'Product ID': '15',\n",
       "  'Product Name': 'Folder',\n",
       "  'Price': 10,\n",
       "  'Quantity': 2000,\n",
       "  'Category': 'Stationary'},\n",
       " '116': {'Product ID': '16',\n",
       "  'Product Name': 'Water Bottle',\n",
       "  'Price': 100,\n",
       "  'Quantity': 678,\n",
       "  'Category': 'Stationary'},\n",
       " '117': {'Product ID': '17',\n",
       "  'Product Name': 'Lunch Box',\n",
       "  'Price': 127,\n",
       "  'Quantity': 488,\n",
       "  'Category': 'Stationary'},\n",
       " '118': {'Product ID': '18',\n",
       "  'Product Name': 'Fevicol',\n",
       "  'Price': 20,\n",
       "  'Quantity': 645,\n",
       "  'Category': 'Stationary'},\n",
       " '119': {'Product ID': '19',\n",
       "  'Product Name': 'Scissor',\n",
       "  'Price': 35,\n",
       "  'Quantity': 837,\n",
       "  'Category': 'Stationary'},\n",
       " '120': {'Product ID': '20',\n",
       "  'Product Name': 'Chart',\n",
       "  'Price': 20,\n",
       "  'Quantity': 837,\n",
       "  'Category': 'Stationary'},\n",
       " '121': {'Product ID': '21',\n",
       "  'Product Name': 'Calculator',\n",
       "  'Price': 200,\n",
       "  'Quantity': 383,\n",
       "  'Category': 'Stationary'},\n",
       " '122': {'Product ID': '22',\n",
       "  'Product Name': 'Sticky Notes',\n",
       "  'Price': 40,\n",
       "  'Quantity': 873,\n",
       "  'Category': 'Stationary'},\n",
       " '123': {'Product ID': '23',\n",
       "  'Product Name': 'Sketch Pen',\n",
       "  'Price': 12,\n",
       "  'Quantity': 337,\n",
       "  'Category': 'Stationary'},\n",
       " '124': {'Product ID': '24',\n",
       "  'Product Name': 'Water colors',\n",
       "  'Price': 60,\n",
       "  'Quantity': 838,\n",
       "  'Category': 'Stationary'},\n",
       " '125': {'Product ID': '25',\n",
       "  'Product Name': 'Crayons',\n",
       "  'Price': 40,\n",
       "  'Quantity': 383,\n",
       "  'Category': 'Stationary'},\n",
       " '126': {'Product ID': '26',\n",
       "  'Product Name': 'Pencil colors',\n",
       "  'Price': 50,\n",
       "  'Quantity': 393,\n",
       "  'Category': 'Stationary'},\n",
       " '127': {'Product ID': '27',\n",
       "  'Product Name': 'Scale',\n",
       "  'Price': 10,\n",
       "  'Quantity': 1928,\n",
       "  'Category': 'Stationary'},\n",
       " '128': {'Product ID': '28',\n",
       "  'Product Name': 'Eraser',\n",
       "  'Price': 5,\n",
       "  'Quantity': 292,\n",
       "  'Category': 'Stationary'},\n",
       " '129': {'Product ID': '29',\n",
       "  'Product Name': 'Sharpner',\n",
       "  'Price': 5,\n",
       "  'Quantity': 392,\n",
       "  'Category': 'Stationary'},\n",
       " '130': {'Product ID': '30',\n",
       "  'Product Name': 'Stepler',\n",
       "  'Price': 45,\n",
       "  'Quantity': 948,\n",
       "  'Category': 'Stationary'},\n",
       " '31': {'name': 'stamp',\n",
       "  'price': '34',\n",
       "  'quantity': '245',\n",
       "  'category': 'Stationary'}}"
      ]
     },
     "execution_count": 105,
     "metadata": {},
     "output_type": "execute_result"
    }
   ],
   "source": [
    "record"
   ]
  },
  {
   "cell_type": "markdown",
   "id": "092ed051",
   "metadata": {},
   "source": [
    "# Read Inventory:"
   ]
  },
  {
   "cell_type": "code",
   "execution_count": 107,
   "id": "4aff34fb",
   "metadata": {},
   "outputs": [],
   "source": [
    "import json\n",
    "\n",
    "fd = open(\"record.json\",'r')\n",
    "read = fd.read()\n",
    "fd.close()\n",
    "\n",
    "record = json.loads(read)"
   ]
  },
  {
   "cell_type": "code",
   "execution_count": 108,
   "id": "e123bf4b",
   "metadata": {
    "scrolled": false
   },
   "outputs": [
    {
     "data": {
      "text/plain": [
       "{'101': {'Product ID': '1',\n",
       "  'Product Name': 'Craft paper',\n",
       "  'Price': 40,\n",
       "  'Quantity': 484,\n",
       "  'Category': 'Stationary'},\n",
       " '102': {'Product ID': '2',\n",
       "  'Product Name': 'Graph paper',\n",
       "  'Price': 5,\n",
       "  'Quantity': 100,\n",
       "  'Category': 'Stationary'},\n",
       " '103': {'Product ID': '3',\n",
       "  'Product Name': 'Marker',\n",
       "  'Price': 20,\n",
       "  'Quantity': 837,\n",
       "  'Category': 'Stationary'},\n",
       " '104': {'Product ID': '4',\n",
       "  'Product Name': 'Whitner',\n",
       "  'Price': 45,\n",
       "  'Quantity': 288,\n",
       "  'Category': 'Stationary'},\n",
       " '105': {'Product ID': '5',\n",
       "  'Product Name': 'Brown cover paper',\n",
       "  'Price': 30,\n",
       "  'Quantity': 118,\n",
       "  'Category': 'Stationary'},\n",
       " '106': {'Product ID': '6',\n",
       "  'Product Name': 'Writing board',\n",
       "  'Price': 50,\n",
       "  'Quantity': 494,\n",
       "  'Category': 'Stationary'},\n",
       " '107': {'Product ID': '7',\n",
       "  'Product Name': 'School bag',\n",
       "  'Price': 600,\n",
       "  'Quantity': 1000,\n",
       "  'Category': 'Stationary'},\n",
       " '108': {'Product ID': '8',\n",
       "  'Product Name': 'Pen',\n",
       "  'Price': 30,\n",
       "  'Quantity': 2000,\n",
       "  'Category': 'Stationary'},\n",
       " '109': {'Product ID': '9',\n",
       "  'Product Name': 'File',\n",
       "  'Price': 20,\n",
       "  'Quantity': 250,\n",
       "  'Category': 'Stationary'},\n",
       " '110': {'Product ID': '10',\n",
       "  'Product Name': 'Notebook',\n",
       "  'Price': 40,\n",
       "  'Quantity': 450,\n",
       "  'Category': 'Stationary'},\n",
       " '111': {'Product ID': '11',\n",
       "  'Product Name': 'Purse',\n",
       "  'Price': 60,\n",
       "  'Quantity': 600,\n",
       "  'Category': 'Stationary'},\n",
       " '112': {'Product ID': '12',\n",
       "  'Product Name': 'Stencil',\n",
       "  'Price': 30,\n",
       "  'Quantity': 500,\n",
       "  'Category': 'Stationary'},\n",
       " '113': {'Product ID': '13',\n",
       "  'Product Name': 'Compass box',\n",
       "  'Price': 30,\n",
       "  'Quantity': 700,\n",
       "  'Category': 'Stationary'},\n",
       " '114': {'Product ID': '14',\n",
       "  'Product Name': 'File',\n",
       "  'Price': 45,\n",
       "  'Quantity': 1000,\n",
       "  'Category': 'Stationary'},\n",
       " '115': {'Product ID': '15',\n",
       "  'Product Name': 'Folder',\n",
       "  'Price': 10,\n",
       "  'Quantity': 2000,\n",
       "  'Category': 'Stationary'},\n",
       " '116': {'Product ID': '16',\n",
       "  'Product Name': 'Water Bottle',\n",
       "  'Price': 100,\n",
       "  'Quantity': 678,\n",
       "  'Category': 'Stationary'},\n",
       " '117': {'Product ID': '17',\n",
       "  'Product Name': 'Lunch Box',\n",
       "  'Price': 127,\n",
       "  'Quantity': 488,\n",
       "  'Category': 'Stationary'},\n",
       " '118': {'Product ID': '18',\n",
       "  'Product Name': 'Fevicol',\n",
       "  'Price': 20,\n",
       "  'Quantity': 645,\n",
       "  'Category': 'Stationary'},\n",
       " '119': {'Product ID': '19',\n",
       "  'Product Name': 'Scissor',\n",
       "  'Price': 35,\n",
       "  'Quantity': 837,\n",
       "  'Category': 'Stationary'},\n",
       " '120': {'Product ID': '20',\n",
       "  'Product Name': 'Chart',\n",
       "  'Price': 20,\n",
       "  'Quantity': 837,\n",
       "  'Category': 'Stationary'},\n",
       " '121': {'Product ID': '21',\n",
       "  'Product Name': 'Calculator',\n",
       "  'Price': 200,\n",
       "  'Quantity': 383,\n",
       "  'Category': 'Stationary'},\n",
       " '122': {'Product ID': '22',\n",
       "  'Product Name': 'Sticky Notes',\n",
       "  'Price': 40,\n",
       "  'Quantity': 873,\n",
       "  'Category': 'Stationary'},\n",
       " '123': {'Product ID': '23',\n",
       "  'Product Name': 'Sketch Pen',\n",
       "  'Price': 12,\n",
       "  'Quantity': 337,\n",
       "  'Category': 'Stationary'},\n",
       " '124': {'Product ID': '24',\n",
       "  'Product Name': 'Water colors',\n",
       "  'Price': 60,\n",
       "  'Quantity': 838,\n",
       "  'Category': 'Stationary'},\n",
       " '125': {'Product ID': '25',\n",
       "  'Product Name': 'Crayons',\n",
       "  'Price': 40,\n",
       "  'Quantity': 383,\n",
       "  'Category': 'Stationary'},\n",
       " '126': {'Product ID': '26',\n",
       "  'Product Name': 'Pencil colors',\n",
       "  'Price': 50,\n",
       "  'Quantity': 393,\n",
       "  'Category': 'Stationary'},\n",
       " '127': {'Product ID': '27',\n",
       "  'Product Name': 'Scale',\n",
       "  'Price': 10,\n",
       "  'Quantity': 1928,\n",
       "  'Category': 'Stationary'},\n",
       " '128': {'Product ID': '28',\n",
       "  'Product Name': 'Eraser',\n",
       "  'Price': 5,\n",
       "  'Quantity': 292,\n",
       "  'Category': 'Stationary'},\n",
       " '129': {'Product ID': '29',\n",
       "  'Product Name': 'Sharpner',\n",
       "  'Price': 5,\n",
       "  'Quantity': 392,\n",
       "  'Category': 'Stationary'},\n",
       " '130': {'Product ID': '30',\n",
       "  'Product Name': 'Stepler',\n",
       "  'Price': 45,\n",
       "  'Quantity': 948,\n",
       "  'Category': 'Stationary'},\n",
       " '31': {'name': 'stamp',\n",
       "  'price': '34',\n",
       "  'quantity': '245',\n",
       "  'category': 'Stationary'}}"
      ]
     },
     "execution_count": 108,
     "metadata": {},
     "output_type": "execute_result"
    }
   ],
   "source": [
    "record"
   ]
  }
 ],
 "metadata": {
  "kernelspec": {
   "display_name": "Python 3 (ipykernel)",
   "language": "python",
   "name": "python3"
  },
  "language_info": {
   "codemirror_mode": {
    "name": "ipython",
    "version": 3
   },
   "file_extension": ".py",
   "mimetype": "text/x-python",
   "name": "python",
   "nbconvert_exporter": "python",
   "pygments_lexer": "ipython3",
   "version": "3.8.9"
  }
 },
 "nbformat": 4,
 "nbformat_minor": 5
}
